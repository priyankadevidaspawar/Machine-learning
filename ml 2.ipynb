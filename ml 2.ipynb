{
 "cells": [
  {
   "cell_type": "code",
   "execution_count": null,
   "id": "a0b47cb8-b75f-4aff-8974-4cad909c2812",
   "metadata": {},
   "outputs": [],
   "source": [
    "Q1: Define overfitting and underfitting in machine learning. What are the consequences of each, and how\n",
    "    can they be mitigated? "
   ]
  },
  {
   "cell_type": "code",
   "execution_count": null,
   "id": "22aac1f5-0741-42b0-9cbd-f1691e831f67",
   "metadata": {},
   "outputs": [],
   "source": [
    "ans. "
   ]
  },
  {
   "cell_type": "code",
   "execution_count": null,
   "id": "97a9d3af-c926-429d-9355-3271ed1f6c98",
   "metadata": {},
   "outputs": [],
   "source": [
    "Q2: How can we reduce overfitting? Explain in brief. "
   ]
  },
  {
   "cell_type": "code",
   "execution_count": null,
   "id": "33c8d546-7ca9-45af-85b7-6957540e7966",
   "metadata": {},
   "outputs": [],
   "source": []
  },
  {
   "cell_type": "code",
   "execution_count": null,
   "id": "01dded4c-fe21-40d0-941c-ab585748fdc0",
   "metadata": {},
   "outputs": [],
   "source": [
    "Q3: Explain underfitting. List scenarios where underfitting can occur in ML. "
   ]
  },
  {
   "cell_type": "code",
   "execution_count": null,
   "id": "b421b20f-8558-4d76-bf27-0bf33568378b",
   "metadata": {},
   "outputs": [],
   "source": []
  },
  {
   "cell_type": "code",
   "execution_count": null,
   "id": "6673056c-1008-4aff-88df-5f1dbef73417",
   "metadata": {},
   "outputs": [],
   "source": [
    "Q4: Explain the bias-variance tradeoff in machine learning.\n",
    "    What is the relationship between bias and variance, and how do they affect model performance? \n"
   ]
  },
  {
   "cell_type": "code",
   "execution_count": null,
   "id": "89d36967-41f8-4bfe-b2f9-240361f6eec8",
   "metadata": {},
   "outputs": [],
   "source": []
  },
  {
   "cell_type": "code",
   "execution_count": null,
   "id": "514ad007-8cc2-4957-b87a-86f486f765f9",
   "metadata": {},
   "outputs": [],
   "source": [
    "Q5: Discuss some common methods for detecting overfitting and underfitting in machine learning models.\n",
    "    How can you determine whether your model is overfitting or underfitting? "
   ]
  },
  {
   "cell_type": "code",
   "execution_count": null,
   "id": "d292d719-d0a2-4b8f-a82c-d5c6e8a49ecf",
   "metadata": {},
   "outputs": [],
   "source": []
  },
  {
   "cell_type": "code",
   "execution_count": null,
   "id": "a1b24a15-0a1c-4a7f-bd93-59c00aed315c",
   "metadata": {},
   "outputs": [],
   "source": [
    "Q6: Compare and contrast bias and variance in machine learning. What are some examples of high bias\n",
    "    and high variance models, and how do they differ in terms of their performance? "
   ]
  },
  {
   "cell_type": "code",
   "execution_count": null,
   "id": "04424cfd-4fa6-45a5-8b71-28328bd05480",
   "metadata": {},
   "outputs": [],
   "source": []
  },
  {
   "cell_type": "code",
   "execution_count": null,
   "id": "6e18bb98-9fe2-489b-8791-c3acbaf933d8",
   "metadata": {},
   "outputs": [],
   "source": [
    "Q7: What is regularization in machine learning, and how can it be used to prevent overfitting?\n",
    "    Describe some common regularization techniques and how they work."
   ]
  },
  {
   "cell_type": "code",
   "execution_count": null,
   "id": "91795819-9367-44c4-9ecf-239385425305",
   "metadata": {},
   "outputs": [],
   "source": []
  }
 ],
 "metadata": {
  "kernelspec": {
   "display_name": "Python 3 (ipykernel)",
   "language": "python",
   "name": "python3"
  },
  "language_info": {
   "codemirror_mode": {
    "name": "ipython",
    "version": 3
   },
   "file_extension": ".py",
   "mimetype": "text/x-python",
   "name": "python",
   "nbconvert_exporter": "python",
   "pygments_lexer": "ipython3",
   "version": "3.10.8"
  }
 },
 "nbformat": 4,
 "nbformat_minor": 5
}
